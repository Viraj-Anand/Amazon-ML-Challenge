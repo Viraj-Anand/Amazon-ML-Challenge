{
 "cells": [
  {
   "cell_type": "code",
   "execution_count": 1,
   "metadata": {},
   "outputs": [],
   "source": [
    "import numpy as np\n",
    "import pandas as pd\n",
    "import seaborn as ss\n",
    "import matplotlib.pyplot as plt"
   ]
  },
  {
   "cell_type": "code",
   "execution_count": 2,
   "metadata": {},
   "outputs": [],
   "source": [
    "ds=pd.read_csv('train.csv')\n"
   ]
  },
  {
   "cell_type": "code",
   "execution_count": 3,
   "metadata": {},
   "outputs": [],
   "source": [
    "ds=ds.drop(['PRODUCT_ID','TITLE','BULLET_POINTS','DESCRIPTION'],axis=1)\n"
   ]
  },
  {
   "cell_type": "code",
   "execution_count": 4,
   "metadata": {},
   "outputs": [],
   "source": [
    "from sklearn.ensemble import RandomForestRegressor\n",
    "from sklearn.model_selection import train_test_split\n",
    "\n",
    "\n",
    "\n"
   ]
  },
  {
   "cell_type": "code",
   "execution_count": 5,
   "metadata": {},
   "outputs": [
    {
     "data": {
      "image/png": "[encoded data removed]",
      "text/plain": [
       "<Figure size 432x288 with 1 Axes>"
      ]
     },
     "metadata": {
      "needs_background": "light"
     },
     "output_type": "display_data"
    }
   ],
   "source": [
    "def detect_outliers_iqr(ds, iqr_factor=1.5):\n",
    "    q1 = np.percentile(ds, 25, axis=0)\n",
    "    q3 = np.percentile(ds, 75, axis=0)\n",
    "    iqr = q3 - q1\n",
    "    upper_bound = q3 + iqr_factor * iqr\n",
    "    lower_bound = q1 - iqr_factor * iqr\n",
    "    outliers = np.concatenate([ds[(ds > upper_bound) | (ds < lower_bound)]])\n",
    "    return outliers\n",
    "\n",
    "\n",
    "outliers = detect_outliers_iqr(ds)\n",
    "\n",
    "fig, ax = plt.subplots()\n",
    "ax.boxplot(ds)\n",
    "ax.plot(np.ones_like(outliers), outliers, 'ro')\n",
    "plt.show()"
   ]
  },
  {
   "cell_type": "code",
   "execution_count": 6,
   "metadata": {},
   "outputs": [
    {
     "data": {
      "image/png": "[encoded data removed]",
      "text/plain": [
       "<Figure size 432x288 with 1 Axes>"
      ]
     },
     "metadata": {
      "needs_background": "light"
     },
     "output_type": "display_data"
    }
   ],
   "source": [
    "def remove_outliers_iqr(ds, iqr_factor=1.5):\n",
    "    q1 = np.percentile(ds, 25, axis=0)\n",
    "    q3 = np.percentile(ds, 75, axis=0)\n",
    "    iqr = q3 - q1\n",
    "    upper_bound = q3 + iqr_factor * iqr\n",
    "    lower_bound = q1 - iqr_factor * iqr\n",
    "    mask = np.all((ds > lower_bound) & (ds < upper_bound), axis=1)\n",
    "    cleaned_ds = ds[mask]\n",
    "    return cleaned_ds\n",
    "\n",
    "# Remove outliers using IQR\n",
    "cleaned_ds = remove_outliers_iqr(ds)\n",
    "\n",
    "# Plot the cleaned ds using a box plot\n",
    "fig, ax = plt.subplots()\n",
    "ax.boxplot(cleaned_ds)\n",
    "plt.show()"
   ]
  },
  {
   "cell_type": "code",
   "execution_count": 33,
   "metadata": {},
   "outputs": [
    {
     "name": "stdout",
     "output_type": "stream",
     "text": [
      "Epoch 1/20\n",
      "4072/4072 [==============================] - 6s 1ms/step - loss: 5993.9038 - mae: 34.1111 - val_loss: 1039.8157 - val_mae: 26.2174\n",
      "Epoch 2/20\n",
      "4072/4072 [==============================] - 6s 1ms/step - loss: 954.1112 - mae: 25.9431 - val_loss: 1082.0769 - val_mae: 27.6825\n",
      "Epoch 3/20\n",
      "4072/4072 [==============================] - 5s 1ms/step - loss: 954.7050 - mae: 25.9403 - val_loss: 943.3341 - val_mae: 25.3657\n",
      "Epoch 4/20\n",
      "4072/4072 [==============================] - 5s 1ms/step - loss: 950.8924 - mae: 25.8876 - val_loss: 887.8152 - val_mae: 25.7907\n",
      "Epoch 5/20\n",
      "4072/4072 [==============================] - 5s 1ms/step - loss: 948.8398 - mae: 25.8949 - val_loss: 891.3660 - val_mae: 25.5353\n",
      "Epoch 6/20\n",
      "4072/4072 [==============================] - 5s 1ms/step - loss: 945.3743 - mae: 25.8688 - val_loss: 921.1353 - val_mae: 25.6978\n",
      "Epoch 7/20\n",
      "4072/4072 [==============================] - 5s 1ms/step - loss: 947.5942 - mae: 25.8636 - val_loss: 892.8305 - val_mae: 25.6700\n",
      "Epoch 8/20\n",
      "4072/4072 [==============================] - 6s 1ms/step - loss: 943.1818 - mae: 25.8275 - val_loss: 898.1781 - val_mae: 25.3698\n",
      "Epoch 9/20\n",
      "4072/4072 [==============================] - 6s 1ms/step - loss: 944.0253 - mae: 25.8541 - val_loss: 921.2322 - val_mae: 25.2907\n",
      "Epoch 10/20\n",
      "4072/4072 [==============================] - 6s 1ms/step - loss: 936.2219 - mae: 25.7810 - val_loss: 973.8263 - val_mae: 26.5970\n",
      "Epoch 11/20\n",
      "4072/4072 [==============================] - 6s 1ms/step - loss: 937.6465 - mae: 25.7979 - val_loss: 1015.8510 - val_mae: 27.0966\n",
      "Epoch 12/20\n",
      "4072/4072 [==============================] - 6s 1ms/step - loss: 937.1149 - mae: 25.7868 - val_loss: 963.4913 - val_mae: 26.6094\n",
      "Epoch 13/20\n",
      "4072/4072 [==============================] - 6s 1ms/step - loss: 937.5052 - mae: 25.8047 - val_loss: 882.1465 - val_mae: 25.4245\n",
      "Epoch 14/20\n",
      "4072/4072 [==============================] - 6s 1ms/step - loss: 935.0094 - mae: 25.7988 - val_loss: 884.5298 - val_mae: 25.2161\n",
      "Epoch 15/20\n",
      "4072/4072 [==============================] - 6s 1ms/step - loss: 930.2266 - mae: 25.7570 - val_loss: 890.7021 - val_mae: 25.8403\n",
      "Epoch 16/20\n",
      "4072/4072 [==============================] - 6s 1ms/step - loss: 928.9849 - mae: 25.7351 - val_loss: 1054.9044 - val_mae: 27.1186\n",
      "Epoch 17/20\n",
      "4072/4072 [==============================] - 6s 2ms/step - loss: 927.9790 - mae: 25.7320 - val_loss: 916.5941 - val_mae: 25.1641\n",
      "Epoch 18/20\n",
      "4072/4072 [==============================] - 6s 1ms/step - loss: 926.5112 - mae: 25.7286 - val_loss: 936.2197 - val_mae: 25.2656\n",
      "Epoch 19/20\n",
      "4072/4072 [==============================] - 6s 2ms/step - loss: 930.8541 - mae: 25.7178 - val_loss: 939.6356 - val_mae: 25.8312\n",
      "Epoch 20/20\n",
      "4072/4072 [==============================] - 6s 1ms/step - loss: 920.1493 - mae: 25.6531 - val_loss: 880.4557 - val_mae: 25.5605\n"
     ]
    },
    {
     "data": {
      "text/plain": [
       "<keras.callbacks.History at 0x1e030059dc0>"
      ]
     },
     "execution_count": 33,
     "metadata": {},
     "output_type": "execute_result"
    }
   ],
   "source": [
    "\n",
    "import pandas as pd\n",
    "import numpy as np\n",
    "from sklearn.preprocessing import RobustScaler\n",
    "from sklearn.model_selection import train_test_split\n",
    "import tensorflow as tf\n",
    "from tensorflow.keras import layers\n",
    "\n",
    "\n",
    "ds = ds[(ds['PRODUCT_LENGTH'] > ds['PRODUCT_LENGTH'].quantile(0.10)) &\n",
    "            (ds['PRODUCT_LENGTH'] < ds['PRODUCT_LENGTH'].quantile(0.90))]\n",
    "\n",
    "\n",
    "X_train, X_test, y_train, y_test = train_test_split(ds.drop('PRODUCT_LENGTH', axis=1),ds['PRODUCT_LENGTH'], test_size=0.2,random_state=42)\n",
    "                                                   \n",
    "                                                    \n",
    "                                                    \n",
    "\n",
    "\n",
    "\n",
    "rb_scaler = RobustScaler()\n",
    "\n",
    "\n",
    "X_train_rb = rb_scaler.fit_transform(X_train)\n",
    "X_test_rb = rb_scaler.transform(X_test)\n",
    "\n",
    "\n",
    "\n",
    "# Define the DNN model\n",
    "model = tf.keras.Sequential([\n",
    "    layers.Dense(128, activation='relu'),\n",
    "    layers.Dense(256, activation='relu'),\n",
    "    layers.Dense(256, activation='relu'),\n",
    "    layers.Dense(128, activation='relu'),\n",
    "    layers.Dense(1)\n",
    "])\n",
    "\n",
    "# Compile the model\n",
    "model.compile(optimizer='adam',\n",
    "              loss='mse',\n",
    "              metrics=['mae'])\n",
    "\n",
    "# Train the model for 10 epochs\n",
    "model.fit(X_train_rb, y_train, epochs=20, validation_data=(X_test_rb, y_test))\n"
   ]
  },
  {
   "cell_type": "code",
   "execution_count": 34,
   "metadata": {},
   "outputs": [],
   "source": [
    "y_pred = model.predict(X_test_rb)\n"
   ]
  },
  {
   "cell_type": "code",
   "execution_count": 35,
   "metadata": {},
   "outputs": [
    {
     "data": {
      "text/plain": [
       "96.27457187479945"
      ]
     },
     "execution_count": 35,
     "metadata": {},
     "output_type": "execute_result"
    }
   ],
   "source": [
    "from sklearn import metrics\n",
    "score = max( 0 , 100*(1-metrics.mean_absolute_percentage_error(y_test,y_pred)))\n",
    "score"
   ]
  },
  {
   "cell_type": "code",
   "execution_count": 37,
   "metadata": {},
   "outputs": [
    {
     "data": {
      "text/html": [
       "<div>\n",
       "<style scoped>\n",
       "    .dataframe tbody tr th:only-of-type {\n",
       "        vertical-align: middle;\n",
       "    }\n",
       "\n",
       "    .dataframe tbody tr th {\n",
       "        vertical-align: top;\n",
       "    }\n",
       "\n",
       "    .dataframe thead th {\n",
       "        text-align: right;\n",
       "    }\n",
       "</style>\n",
       "<table border=\"1\" class=\"dataframe\">\n",
       "  <thead>\n",
       "    <tr style=\"text-align: right;\">\n",
       "      <th></th>\n",
       "      <th>PRODUCT_ID</th>\n",
       "      <th>TITLE</th>\n",
       "      <th>BULLET_POINTS</th>\n",
       "      <th>DESCRIPTION</th>\n",
       "      <th>PRODUCT_TYPE_ID</th>\n",
       "    </tr>\n",
       "  </thead>\n",
       "  <tbody>\n",
       "    <tr>\n",
       "      <th>0</th>\n",
       "      <td>604373</td>\n",
       "      <td>Manuel d'Héliogravure Et de Photogravure En Re...</td>\n",
       "      <td>NaN</td>\n",
       "      <td>NaN</td>\n",
       "      <td>6142</td>\n",
       "    </tr>\n",
       "    <tr>\n",
       "      <th>1</th>\n",
       "      <td>1729783</td>\n",
       "      <td>DCGARING Microfiber Throw Blanket Warm Fuzzy P...</td>\n",
       "      <td>[QUALITY GUARANTEED: Luxury cozy plush polyest...</td>\n",
       "      <td>&lt;b&gt;DCGARING Throw Blanket&lt;/b&gt;&lt;br&gt;&lt;br&gt; &lt;b&gt;Size ...</td>\n",
       "      <td>1622</td>\n",
       "    </tr>\n",
       "    <tr>\n",
       "      <th>2</th>\n",
       "      <td>1871949</td>\n",
       "      <td>I-Match Auto Parts Front License Plate Bracket...</td>\n",
       "      <td>[Front License Plate Bracket Made Of Plastic,D...</td>\n",
       "      <td>Replacement for The Following Vehicles:2020 LE...</td>\n",
       "      <td>7540</td>\n",
       "    </tr>\n",
       "    <tr>\n",
       "      <th>3</th>\n",
       "      <td>1107571</td>\n",
       "      <td>PinMart Gold Plated Excellence in Service 1 Ye...</td>\n",
       "      <td>[Available as a single item or bulk packed. Se...</td>\n",
       "      <td>Our Excellence in Service Lapel Pins feature a...</td>\n",
       "      <td>12442</td>\n",
       "    </tr>\n",
       "    <tr>\n",
       "      <th>4</th>\n",
       "      <td>624253</td>\n",
       "      <td>Visual Mathematics, Illustrated by the TI-92 a...</td>\n",
       "      <td>NaN</td>\n",
       "      <td>NaN</td>\n",
       "      <td>6318</td>\n",
       "    </tr>\n",
       "  </tbody>\n",
       "</table>\n",
       "</div>"
      ],
      "text/plain": [
       "   PRODUCT_ID                                              TITLE  \\\n",
       "0      604373  Manuel d'Héliogravure Et de Photogravure En Re...   \n",
       "1     1729783  DCGARING Microfiber Throw Blanket Warm Fuzzy P...   \n",
       "2     1871949  I-Match Auto Parts Front License Plate Bracket...   \n",
       "3     1107571  PinMart Gold Plated Excellence in Service 1 Ye...   \n",
       "4      624253  Visual Mathematics, Illustrated by the TI-92 a...   \n",
       "\n",
       "                                       BULLET_POINTS  \\\n",
       "0                                                NaN   \n",
       "1  [QUALITY GUARANTEED: Luxury cozy plush polyest...   \n",
       "2  [Front License Plate Bracket Made Of Plastic,D...   \n",
       "3  [Available as a single item or bulk packed. Se...   \n",
       "4                                                NaN   \n",
       "\n",
       "                                         DESCRIPTION  PRODUCT_TYPE_ID  \n",
       "0                                                NaN             6142  \n",
       "1  <b>DCGARING Throw Blanket</b><br><br> <b>Size ...             1622  \n",
       "2  Replacement for The Following Vehicles:2020 LE...             7540  \n",
       "3  Our Excellence in Service Lapel Pins feature a...            12442  \n",
       "4                                                NaN             6318  "
      ]
     },
     "execution_count": 37,
     "metadata": {},
     "output_type": "execute_result"
    }
   ],
   "source": [
    "ds2=pd.read_csv('test.csv')\n",
    "ds2.head()"
   ]
  },
  {
   "cell_type": "code",
   "execution_count": 41,
   "metadata": {},
   "outputs": [],
   "source": [
    "x_test2=ds2['PRODUCT_TYPE_ID']\n",
    "\n",
    "x_test2=rb_scaler.fit_transform(x_test2.values.reshape(-1,1))\n",
    "y_pred2=model.predict(x_test2)"
   ]
  },
  {
   "cell_type": "code",
   "execution_count": 42,
   "metadata": {},
   "outputs": [
    {
     "data": {
      "text/plain": [
       "array([[688.98395],\n",
       "       [686.51337],\n",
       "       [682.60785],\n",
       "       ...,\n",
       "       [715.09296],\n",
       "       [740.8761 ],\n",
       "       [689.221  ]], dtype=float32)"
      ]
     },
     "execution_count": 42,
     "metadata": {},
     "output_type": "execute_result"
    }
   ],
   "source": [
    "y_pred2"
   ]
  },
  {
   "cell_type": "code",
   "execution_count": null,
   "metadata": {},
   "outputs": [],
   "source": []
  }
 ],
 "metadata": {
  "kernelspec": {
   "display_name": "Python 3",
   "language": "python",
   "name": "python3"
  },
  "language_info": {
   "codemirror_mode": {
    "name": "ipython",
    "version": 3
   },
   "file_extension": ".py",
   "mimetype": "text/x-python",
   "name": "python",
   "nbconvert_exporter": "python",
   "pygments_lexer": "ipython3",
   "version": "3.9.6"
  },
  "orig_nbformat": 4,
  "vscode": {
   "interpreter": {
    "hash": "04d3f64a3b4064fd924ec1789481681d8cf614ac32e465ddc035ca363d369555"
   }
  }
 },
 "nbformat": 4,
 "nbformat_minor": 2
}
